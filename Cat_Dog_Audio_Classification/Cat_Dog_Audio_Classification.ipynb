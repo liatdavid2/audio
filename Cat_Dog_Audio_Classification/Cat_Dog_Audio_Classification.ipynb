{
  "nbformat": 4,
  "nbformat_minor": 0,
  "metadata": {
    "colab": {
      "provenance": []
    },
    "kernelspec": {
      "name": "python3",
      "display_name": "Python 3"
    },
    "language_info": {
      "name": "python"
    },
    "accelerator": "GPU",
    "gpuClass": "premium"
  },
  "cells": [
    {
      "cell_type": "code",
      "source": [
        "from google.colab import drive\n",
        "drive.mount('/content/gdrive')"
      ],
      "metadata": {
        "colab": {
          "base_uri": "https://localhost:8080/"
        },
        "id": "ujJf_794W8KS",
        "outputId": "0c66d8e1-3df9-41b3-cdc1-180841851b02"
      },
      "execution_count": 2,
      "outputs": [
        {
          "output_type": "stream",
          "name": "stdout",
          "text": [
            "Mounted at /content/gdrive\n"
          ]
        }
      ]
    },
    {
      "cell_type": "code",
      "execution_count": 1,
      "metadata": {
        "id": "OsHe4nklVnHr"
      },
      "outputs": [],
      "source": [
        "import pandas as pd\n",
        "import numpy as np\n",
        "import os\n",
        "import librosa \n",
        "import tensorflow as tf\n",
        "import librosa.display\n",
        "import matplotlib.pyplot as plt\n",
        "import seaborn as sns\n",
        "from sklearn.preprocessing import LabelEncoder,OneHotEncoder\n",
        "import tensorflow.keras.layers as layers\n",
        "from sklearn.metrics import confusion_matrix,classification_report,accuracy_score,f1_score"
      ]
    },
    {
      "cell_type": "code",
      "source": [
        "!unzip \"/content/gdrive/MyDrive/ml/CatDogAudioClassification/cats_dogs.zip\""
      ],
      "metadata": {
        "colab": {
          "base_uri": "https://localhost:8080/"
        },
        "id": "zva--6zQXGnb",
        "outputId": "c6cff418-81bb-4450-bbe5-47f03607666c"
      },
      "execution_count": 3,
      "outputs": [
        {
          "output_type": "stream",
          "name": "stdout",
          "text": [
            "Archive:  /content/gdrive/MyDrive/ml/CatDogAudioClassification/cats_dogs.zip\n",
            "   creating: test/\n",
            "   creating: test/test/\n",
            "  inflating: test/test/dog_barking_112.wav  \n",
            "  inflating: test/test/dog_barking_99.wav  \n",
            "  inflating: test/test/dog_barking_91.wav  \n",
            "  inflating: test/test/dog_barking_90.wav  \n",
            "  inflating: test/test/dog_barking_89.wav  \n",
            "  inflating: test/test/dog_barking_82.wav  \n",
            "  inflating: test/test/dog_barking_78.wav  \n",
            "  inflating: test/test/dog_barking_73.wav  \n",
            "  inflating: test/test/dog_barking_66.wav  \n",
            "  inflating: test/test/dog_barking_64.wav  \n",
            "  inflating: test/test/dog_barking_62.wav  \n",
            "  inflating: test/test/dog_barking_59.wav  \n",
            "  inflating: test/test/dog_barking_54.wav  \n",
            "  inflating: test/test/dog_barking_49.wav  \n",
            "  inflating: test/test/dog_barking_48.wav  \n",
            "  inflating: test/test/dog_barking_46.wav  \n",
            "  inflating: test/test/dog_barking_45.wav  \n",
            "  inflating: test/test/dog_barking_44.wav  \n",
            "  inflating: test/test/dog_barking_43.wav  \n",
            "  inflating: test/test/dog_barking_34.wav  \n",
            "  inflating: test/test/dog_barking_24.wav  \n",
            "  inflating: test/test/dog_barking_19.wav  \n",
            "  inflating: test/test/dog_barking_15.wav  \n",
            "  inflating: test/test/dog_barking_12.wav  \n",
            "  inflating: test/test/dog_barking_9.wav  \n",
            "  inflating: test/test/dog_barking_8.wav  \n",
            "  inflating: test/test/dog_barking_7.wav  \n",
            "  inflating: test/test/dog_barking_3.wav  \n",
            "   creating: test/cats/\n",
            "  inflating: test/cats/cat_158.wav   \n",
            "  inflating: test/cats/cat_152.wav   \n",
            "  inflating: test/cats/cat_148.wav   \n",
            "  inflating: test/cats/cat_144.wav   \n",
            "  inflating: test/cats/cat_143.wav   \n",
            "  inflating: test/cats/cat_137.wav   \n",
            "  inflating: test/cats/cat_135.wav   \n",
            "  inflating: test/cats/cat_133.wav   \n",
            "  inflating: test/cats/cat_130.wav   \n",
            "  inflating: test/cats/cat_129.wav   \n",
            "  inflating: test/cats/cat_126.wav   \n",
            "  inflating: test/cats/cat_115.wav   \n",
            "  inflating: test/cats/cat_112.wav   \n",
            "  inflating: test/cats/cat_110.wav   \n",
            "  inflating: test/cats/cat_90.wav    \n",
            "  inflating: test/cats/cat_88.wav    \n",
            "  inflating: test/cats/cat_86.wav    \n",
            "  inflating: test/cats/cat_85.wav    \n",
            "  inflating: test/cats/cat_82.wav    \n",
            "  inflating: test/cats/cat_79.wav    \n",
            "  inflating: test/cats/cat_76.wav    \n",
            "  inflating: test/cats/cat_75.wav    \n",
            "  inflating: test/cats/cat_67.wav    \n",
            "  inflating: test/cats/cat_66.wav    \n",
            "  inflating: test/cats/cat_61.wav    \n",
            "  inflating: test/cats/cat_59.wav    \n",
            "  inflating: test/cats/cat_58.wav    \n",
            "  inflating: test/cats/cat_57.wav    \n",
            "  inflating: test/cats/cat_56.wav    \n",
            "  inflating: test/cats/cat_55.wav    \n",
            "  inflating: test/cats/cat_42.wav    \n",
            "  inflating: test/cats/cat_36.wav    \n",
            "  inflating: test/cats/cat_29.wav    \n",
            "  inflating: test/cats/cat_28.wav    \n",
            "  inflating: test/cats/cat_24.wav    \n",
            "  inflating: test/cats/cat_20.wav    \n",
            "  inflating: test/cats/cat_17.wav    \n",
            "  inflating: test/cats/cat_14.wav    \n",
            "  inflating: test/cats/cat_3.wav     \n",
            "   creating: train/\n",
            "   creating: train/dog/\n",
            "  inflating: train/dog/dog_barking_6.wav  \n",
            "  inflating: train/dog/dog_barking_96.wav  \n",
            "  inflating: train/dog/dog_barking_101.wav  \n",
            "  inflating: train/dog/dog_barking_67.wav  \n",
            "  inflating: train/dog/dog_barking_80.wav  \n",
            "  inflating: train/dog/dog_barking_106.wav  \n",
            "  inflating: train/dog/dog_barking_2.wav  \n",
            "  inflating: train/dog/dog_barking_35.wav  \n",
            "  inflating: train/dog/dog_barking_26.wav  \n",
            "  inflating: train/dog/dog_barking_93.wav  \n",
            "  inflating: train/dog/dog_barking_94.wav  \n",
            "  inflating: train/dog/dog_barking_97.wav  \n",
            "  inflating: train/dog/dog_barking_11.wav  \n",
            "  inflating: train/dog/dog_barking_68.wav  \n",
            "  inflating: train/dog/dog_barking_107.wav  \n",
            "  inflating: train/dog/dog_barking_102.wav  \n",
            "  inflating: train/dog/dog_barking_30.wav  \n",
            "  inflating: train/dog/dog_barking_23.wav  \n",
            "  inflating: train/dog/dog_barking_0.wav  \n",
            "  inflating: train/dog/dog_barking_56.wav  \n",
            "  inflating: train/dog/dog_barking_37.wav  \n",
            "  inflating: train/dog/dog_barking_20.wav  \n",
            "  inflating: train/dog/dog_barking_32.wav  \n",
            "  inflating: train/dog/dog_barking_86.wav  \n",
            "  inflating: train/dog/dog_barking_40.wav  \n",
            "  inflating: train/dog/dog_barking_103.wav  \n",
            "  inflating: train/dog/dog_barking_53.wav  \n",
            "  inflating: train/dog/dog_barking_76.wav  \n",
            "  inflating: train/dog/dog_barking_51.wav  \n",
            "  inflating: train/dog/dog_barking_58.wav  \n",
            "  inflating: train/dog/dog_barking_71.wav  \n",
            "  inflating: train/dog/dog_barking_50.wav  \n",
            "  inflating: train/dog/dog_barking_104.wav  \n",
            "  inflating: train/dog/dog_barking_22.wav  \n",
            "  inflating: train/dog/dog_barking_42.wav  \n",
            "  inflating: train/dog/dog_barking_100.wav  \n",
            "  inflating: train/dog/dog_barking_18.wav  \n",
            "  inflating: train/dog/dog_barking_10.wav  \n",
            "  inflating: train/dog/dog_barking_81.wav  \n",
            "  inflating: train/dog/dog_barking_92.wav  \n",
            "  inflating: train/dog/dog_barking_109.wav  \n",
            "  inflating: train/dog/dog_barking_84.wav  \n",
            "  inflating: train/dog/dog_barking_14.wav  \n",
            "  inflating: train/dog/dog_barking_69.wav  \n",
            "  inflating: train/dog/dog_barking_111.wav  \n",
            "  inflating: train/dog/dog_barking_5.wav  \n",
            "  inflating: train/dog/dog_barking_98.wav  \n",
            "  inflating: train/dog/dog_barking_33.wav  \n",
            "  inflating: train/dog/dog_barking_41.wav  \n",
            "  inflating: train/dog/dog_barking_31.wav  \n",
            "  inflating: train/dog/dog_barking_57.wav  \n",
            "  inflating: train/dog/dog_barking_39.wav  \n",
            "  inflating: train/dog/dog_barking_55.wav  \n",
            "  inflating: train/dog/dog_barking_87.wav  \n",
            "  inflating: train/dog/dog_barking_36.wav  \n",
            "  inflating: train/dog/dog_barking_95.wav  \n",
            "  inflating: train/dog/dog_barking_110.wav  \n",
            "  inflating: train/dog/dog_barking_13.wav  \n",
            "  inflating: train/dog/dog_barking_83.wav  \n",
            "  inflating: train/dog/dog_barking_108.wav  \n",
            "  inflating: train/dog/dog_barking_25.wav  \n",
            "  inflating: train/dog/dog_barking_21.wav  \n",
            "  inflating: train/dog/dog_barking_105.wav  \n",
            "  inflating: train/dog/dog_barking_17.wav  \n",
            "  inflating: train/dog/dog_barking_65.wav  \n",
            "  inflating: train/dog/dog_barking_16.wav  \n",
            "  inflating: train/dog/dog_barking_52.wav  \n",
            "  inflating: train/dog/dog_barking_88.wav  \n",
            "  inflating: train/dog/dog_barking_47.wav  \n",
            "  inflating: train/dog/dog_barking_63.wav  \n",
            "  inflating: train/dog/dog_barking_60.wav  \n",
            "  inflating: train/dog/dog_barking_77.wav  \n",
            "  inflating: train/dog/dog_barking_4.wav  \n",
            "  inflating: train/dog/dog_barking_79.wav  \n",
            "  inflating: train/dog/dog_barking_75.wav  \n",
            "  inflating: train/dog/dog_barking_74.wav  \n",
            "  inflating: train/dog/dog_barking_28.wav  \n",
            "  inflating: train/dog/dog_barking_70.wav  \n",
            "  inflating: train/dog/dog_barking_29.wav  \n",
            "  inflating: train/dog/dog_barking_72.wav  \n",
            "  inflating: train/dog/dog_barking_27.wav  \n",
            "  inflating: train/dog/dog_barking_61.wav  \n",
            "  inflating: train/dog/dog_barking_1.wav  \n",
            "  inflating: train/dog/dog_barking_85.wav  \n",
            "  inflating: train/dog/dog_barking_38.wav  \n",
            "   creating: train/cat/\n",
            "  inflating: train/cat/cat_53.wav    \n",
            "  inflating: train/cat/cat_134.wav   \n",
            "  inflating: train/cat/cat_12.wav    \n",
            "  inflating: train/cat/cat_48.wav    \n",
            "  inflating: train/cat/cat_157.wav   \n",
            "  inflating: train/cat/cat_35.wav    \n",
            "  inflating: train/cat/cat_109.wav   \n",
            "  inflating: train/cat/cat_47.wav    \n",
            "  inflating: train/cat/cat_154.wav   \n",
            "  inflating: train/cat/cat_87.wav    \n",
            "  inflating: train/cat/cat_105.wav   \n",
            "  inflating: train/cat/cat_101.wav   \n",
            "  inflating: train/cat/cat_84.wav    \n",
            "  inflating: train/cat/cat_43.wav    \n",
            "  inflating: train/cat/cat_119.wav   \n",
            "  inflating: train/cat/cat_9.wav     \n",
            "  inflating: train/cat/cat_65.wav    \n",
            "  inflating: train/cat/cat_44.wav    \n",
            "  inflating: train/cat/cat_92.wav    \n",
            "  inflating: train/cat/cat_15.wav    \n",
            "  inflating: train/cat/cat_18.wav    \n",
            "  inflating: train/cat/cat_19.wav    \n",
            "  inflating: train/cat/cat_159.wav   \n",
            "  inflating: train/cat/cat_2.wav     \n",
            "  inflating: train/cat/cat_150.wav   \n",
            "  inflating: train/cat/cat_132.wav   \n",
            "  inflating: train/cat/cat_102.wav   \n",
            "  inflating: train/cat/cat_127.wav   \n",
            "  inflating: train/cat/cat_7.wav     \n",
            "  inflating: train/cat/cat_49.wav    \n",
            "  inflating: train/cat/cat_117.wav   \n",
            "  inflating: train/cat/cat_39.wav    \n",
            "  inflating: train/cat/cat_5.wav     \n",
            "  inflating: train/cat/cat_121.wav   \n",
            "  inflating: train/cat/cat_21.wav    \n",
            "  inflating: train/cat/cat_106.wav   \n",
            "  inflating: train/cat/cat_166.wav   \n",
            "  inflating: train/cat/cat_140.wav   \n",
            "  inflating: train/cat/cat_89.wav    \n",
            "  inflating: train/cat/cat_97.wav    \n",
            "  inflating: train/cat/cat_60.wav    \n",
            "  inflating: train/cat/cat_81.wav    \n",
            "  inflating: train/cat/cat_23.wav    \n",
            "  inflating: train/cat/cat_77.wav    \n",
            "  inflating: train/cat/cat_100.wav   \n",
            "  inflating: train/cat/cat_113.wav   \n",
            "  inflating: train/cat/cat_151.wav   \n",
            "  inflating: train/cat/cat_10.wav    \n",
            "  inflating: train/cat/cat_114.wav   \n",
            "  inflating: train/cat/cat_38.wav    \n",
            "  inflating: train/cat/cat_63.wav    \n",
            "  inflating: train/cat/cat_27.wav    \n",
            "  inflating: train/cat/cat_146.wav   \n",
            "  inflating: train/cat/cat_54.wav    \n",
            "  inflating: train/cat/cat_62.wav    \n",
            "  inflating: train/cat/cat_16.wav    \n",
            "  inflating: train/cat/cat_34.wav    \n",
            "  inflating: train/cat/cat_70.wav    \n",
            "  inflating: train/cat/cat_136.wav   \n",
            "  inflating: train/cat/cat_68.wav    \n",
            "  inflating: train/cat/cat_1.wav     \n",
            "  inflating: train/cat/cat_103.wav   \n",
            "  inflating: train/cat/cat_6.wav     \n",
            "  inflating: train/cat/cat_120.wav   \n",
            "  inflating: train/cat/cat_91.wav    \n",
            "  inflating: train/cat/cat_96.wav    \n",
            "  inflating: train/cat/cat_108.wav   \n",
            "  inflating: train/cat/cat_11.wav    \n",
            "  inflating: train/cat/cat_52.wav    \n",
            "  inflating: train/cat/cat_142.wav   \n",
            "  inflating: train/cat/cat_72.wav    \n",
            "  inflating: train/cat/cat_93.wav    \n",
            "  inflating: train/cat/cat_128.wav   \n",
            "  inflating: train/cat/cat_78.wav    \n",
            "  inflating: train/cat/cat_46.wav    \n",
            "  inflating: train/cat/cat_153.wav   \n",
            "  inflating: train/cat/cat_30.wav    \n",
            "  inflating: train/cat/cat_124.wav   \n",
            "  inflating: train/cat/cat_165.wav   \n",
            "  inflating: train/cat/cat_125.wav   \n",
            "  inflating: train/cat/cat_131.wav   \n",
            "  inflating: train/cat/cat_37.wav    \n",
            "  inflating: train/cat/cat_155.wav   \n",
            "  inflating: train/cat/cat_41.wav    \n",
            "  inflating: train/cat/cat_107.wav   \n",
            "  inflating: train/cat/cat_33.wav    \n",
            "  inflating: train/cat/cat_163.wav   \n",
            "  inflating: train/cat/cat_71.wav    \n",
            "  inflating: train/cat/cat_99.wav    \n",
            "  inflating: train/cat/cat_123.wav   \n",
            "  inflating: train/cat/cat_31.wav    \n",
            "  inflating: train/cat/cat_51.wav    \n",
            "  inflating: train/cat/cat_69.wav    \n",
            "  inflating: train/cat/cat_32.wav    \n",
            "  inflating: train/cat/cat_149.wav   \n",
            "  inflating: train/cat/cat_118.wav   \n",
            "  inflating: train/cat/cat_74.wav    \n",
            "  inflating: train/cat/cat_139.wav   \n",
            "  inflating: train/cat/cat_40.wav    \n",
            "  inflating: train/cat/cat_98.wav    \n",
            "  inflating: train/cat/cat_73.wav    \n",
            "  inflating: train/cat/cat_25.wav    \n",
            "  inflating: train/cat/cat_8.wav     \n",
            "  inflating: train/cat/cat_64.wav    \n",
            "  inflating: train/cat/cat_160.wav   \n",
            "  inflating: train/cat/cat_161.wav   \n",
            "  inflating: train/cat/cat_138.wav   \n",
            "  inflating: train/cat/cat_156.wav   \n",
            "  inflating: train/cat/cat_83.wav    \n",
            "  inflating: train/cat/cat_94.wav    \n",
            "  inflating: train/cat/cat_147.wav   \n",
            "  inflating: train/cat/cat_162.wav   \n",
            "  inflating: train/cat/cat_13.wav    \n",
            "  inflating: train/cat/cat_4.wav     \n",
            "  inflating: train/cat/cat_45.wav    \n",
            "  inflating: train/cat/cat_26.wav    \n",
            "  inflating: train/cat/cat_22.wav    \n",
            "  inflating: train/cat/cat_122.wav   \n",
            "  inflating: train/cat/cat_141.wav   \n",
            "  inflating: train/cat/cat_116.wav   \n",
            "  inflating: train/cat/cat_80.wav    \n",
            "  inflating: train/cat/cat_167.wav   \n",
            "  inflating: train/cat/cat_164.wav   \n",
            "  inflating: train/cat/cat_50.wav    \n",
            "  inflating: train/cat/cat_95.wav    \n"
          ]
        }
      ]
    },
    {
      "cell_type": "code",
      "source": [
        "#train data creator\n",
        "\n",
        "ID=[]\n",
        "label=[]\n",
        "# import required module\n",
        "import os\n",
        "# assign directory\n",
        "directory = '/content/train/'\n",
        " \n",
        "# iterate over files in\n",
        "# that directory\n",
        "\n",
        "for folder in os.listdir(directory):                               #go into the directory\n",
        "    for filename in os.listdir(directory+str(folder)):          #go in every class \n",
        "        f = os.path.join(directory+str(folder), filename)    #scan through every file in that class\n",
        "        if os.path.isfile(f):\n",
        "            ID.append(f.split('/')[-1])\n",
        "            label.append(f.split('/')[-2])"
      ],
      "metadata": {
        "id": "cvZRdPjcW00v"
      },
      "execution_count": 4,
      "outputs": []
    },
    {
      "cell_type": "code",
      "source": [
        "train_data=pd.DataFrame()\n",
        "train_data['ID']=ID\n",
        "train_data['label']=label"
      ],
      "metadata": {
        "id": "oiBAnL1mXR2P"
      },
      "execution_count": 5,
      "outputs": []
    },
    {
      "cell_type": "code",
      "source": [
        "train_data"
      ],
      "metadata": {
        "colab": {
          "base_uri": "https://localhost:8080/",
          "height": 423
        },
        "id": "c6XXYwAzXY39",
        "outputId": "1de32a9d-ffd8-4f25-f0dc-93aa8e42c54f"
      },
      "execution_count": 6,
      "outputs": [
        {
          "output_type": "execute_result",
          "data": {
            "text/plain": [
              "                      ID label\n",
              "0      dog_barking_5.wav   dog\n",
              "1    dog_barking_102.wav   dog\n",
              "2     dog_barking_56.wav   dog\n",
              "3     dog_barking_87.wav   dog\n",
              "4     dog_barking_20.wav   dog\n",
              "..                   ...   ...\n",
              "205            cat_6.wav   cat\n",
              "206            cat_5.wav   cat\n",
              "207           cat_97.wav   cat\n",
              "208           cat_77.wav   cat\n",
              "209           cat_37.wav   cat\n",
              "\n",
              "[210 rows x 2 columns]"
            ],
            "text/html": [
              "\n",
              "  <div id=\"df-50358662-d653-486e-9de8-b7ca7593e565\">\n",
              "    <div class=\"colab-df-container\">\n",
              "      <div>\n",
              "<style scoped>\n",
              "    .dataframe tbody tr th:only-of-type {\n",
              "        vertical-align: middle;\n",
              "    }\n",
              "\n",
              "    .dataframe tbody tr th {\n",
              "        vertical-align: top;\n",
              "    }\n",
              "\n",
              "    .dataframe thead th {\n",
              "        text-align: right;\n",
              "    }\n",
              "</style>\n",
              "<table border=\"1\" class=\"dataframe\">\n",
              "  <thead>\n",
              "    <tr style=\"text-align: right;\">\n",
              "      <th></th>\n",
              "      <th>ID</th>\n",
              "      <th>label</th>\n",
              "    </tr>\n",
              "  </thead>\n",
              "  <tbody>\n",
              "    <tr>\n",
              "      <th>0</th>\n",
              "      <td>dog_barking_5.wav</td>\n",
              "      <td>dog</td>\n",
              "    </tr>\n",
              "    <tr>\n",
              "      <th>1</th>\n",
              "      <td>dog_barking_102.wav</td>\n",
              "      <td>dog</td>\n",
              "    </tr>\n",
              "    <tr>\n",
              "      <th>2</th>\n",
              "      <td>dog_barking_56.wav</td>\n",
              "      <td>dog</td>\n",
              "    </tr>\n",
              "    <tr>\n",
              "      <th>3</th>\n",
              "      <td>dog_barking_87.wav</td>\n",
              "      <td>dog</td>\n",
              "    </tr>\n",
              "    <tr>\n",
              "      <th>4</th>\n",
              "      <td>dog_barking_20.wav</td>\n",
              "      <td>dog</td>\n",
              "    </tr>\n",
              "    <tr>\n",
              "      <th>...</th>\n",
              "      <td>...</td>\n",
              "      <td>...</td>\n",
              "    </tr>\n",
              "    <tr>\n",
              "      <th>205</th>\n",
              "      <td>cat_6.wav</td>\n",
              "      <td>cat</td>\n",
              "    </tr>\n",
              "    <tr>\n",
              "      <th>206</th>\n",
              "      <td>cat_5.wav</td>\n",
              "      <td>cat</td>\n",
              "    </tr>\n",
              "    <tr>\n",
              "      <th>207</th>\n",
              "      <td>cat_97.wav</td>\n",
              "      <td>cat</td>\n",
              "    </tr>\n",
              "    <tr>\n",
              "      <th>208</th>\n",
              "      <td>cat_77.wav</td>\n",
              "      <td>cat</td>\n",
              "    </tr>\n",
              "    <tr>\n",
              "      <th>209</th>\n",
              "      <td>cat_37.wav</td>\n",
              "      <td>cat</td>\n",
              "    </tr>\n",
              "  </tbody>\n",
              "</table>\n",
              "<p>210 rows × 2 columns</p>\n",
              "</div>\n",
              "      <button class=\"colab-df-convert\" onclick=\"convertToInteractive('df-50358662-d653-486e-9de8-b7ca7593e565')\"\n",
              "              title=\"Convert this dataframe to an interactive table.\"\n",
              "              style=\"display:none;\">\n",
              "        \n",
              "  <svg xmlns=\"http://www.w3.org/2000/svg\" height=\"24px\"viewBox=\"0 0 24 24\"\n",
              "       width=\"24px\">\n",
              "    <path d=\"M0 0h24v24H0V0z\" fill=\"none\"/>\n",
              "    <path d=\"M18.56 5.44l.94 2.06.94-2.06 2.06-.94-2.06-.94-.94-2.06-.94 2.06-2.06.94zm-11 1L8.5 8.5l.94-2.06 2.06-.94-2.06-.94L8.5 2.5l-.94 2.06-2.06.94zm10 10l.94 2.06.94-2.06 2.06-.94-2.06-.94-.94-2.06-.94 2.06-2.06.94z\"/><path d=\"M17.41 7.96l-1.37-1.37c-.4-.4-.92-.59-1.43-.59-.52 0-1.04.2-1.43.59L10.3 9.45l-7.72 7.72c-.78.78-.78 2.05 0 2.83L4 21.41c.39.39.9.59 1.41.59.51 0 1.02-.2 1.41-.59l7.78-7.78 2.81-2.81c.8-.78.8-2.07 0-2.86zM5.41 20L4 18.59l7.72-7.72 1.47 1.35L5.41 20z\"/>\n",
              "  </svg>\n",
              "      </button>\n",
              "      \n",
              "  <style>\n",
              "    .colab-df-container {\n",
              "      display:flex;\n",
              "      flex-wrap:wrap;\n",
              "      gap: 12px;\n",
              "    }\n",
              "\n",
              "    .colab-df-convert {\n",
              "      background-color: #E8F0FE;\n",
              "      border: none;\n",
              "      border-radius: 50%;\n",
              "      cursor: pointer;\n",
              "      display: none;\n",
              "      fill: #1967D2;\n",
              "      height: 32px;\n",
              "      padding: 0 0 0 0;\n",
              "      width: 32px;\n",
              "    }\n",
              "\n",
              "    .colab-df-convert:hover {\n",
              "      background-color: #E2EBFA;\n",
              "      box-shadow: 0px 1px 2px rgba(60, 64, 67, 0.3), 0px 1px 3px 1px rgba(60, 64, 67, 0.15);\n",
              "      fill: #174EA6;\n",
              "    }\n",
              "\n",
              "    [theme=dark] .colab-df-convert {\n",
              "      background-color: #3B4455;\n",
              "      fill: #D2E3FC;\n",
              "    }\n",
              "\n",
              "    [theme=dark] .colab-df-convert:hover {\n",
              "      background-color: #434B5C;\n",
              "      box-shadow: 0px 1px 3px 1px rgba(0, 0, 0, 0.15);\n",
              "      filter: drop-shadow(0px 1px 2px rgba(0, 0, 0, 0.3));\n",
              "      fill: #FFFFFF;\n",
              "    }\n",
              "  </style>\n",
              "\n",
              "      <script>\n",
              "        const buttonEl =\n",
              "          document.querySelector('#df-50358662-d653-486e-9de8-b7ca7593e565 button.colab-df-convert');\n",
              "        buttonEl.style.display =\n",
              "          google.colab.kernel.accessAllowed ? 'block' : 'none';\n",
              "\n",
              "        async function convertToInteractive(key) {\n",
              "          const element = document.querySelector('#df-50358662-d653-486e-9de8-b7ca7593e565');\n",
              "          const dataTable =\n",
              "            await google.colab.kernel.invokeFunction('convertToInteractive',\n",
              "                                                     [key], {});\n",
              "          if (!dataTable) return;\n",
              "\n",
              "          const docLinkHtml = 'Like what you see? Visit the ' +\n",
              "            '<a target=\"_blank\" href=https://colab.research.google.com/notebooks/data_table.ipynb>data table notebook</a>'\n",
              "            + ' to learn more about interactive tables.';\n",
              "          element.innerHTML = '';\n",
              "          dataTable['output_type'] = 'display_data';\n",
              "          await google.colab.output.renderOutput(dataTable, element);\n",
              "          const docLink = document.createElement('div');\n",
              "          docLink.innerHTML = docLinkHtml;\n",
              "          element.appendChild(docLink);\n",
              "        }\n",
              "      </script>\n",
              "    </div>\n",
              "  </div>\n",
              "  "
            ]
          },
          "metadata": {},
          "execution_count": 6
        }
      ]
    },
    {
      "cell_type": "code",
      "source": [
        "plt.figure(figsize=(8,6),dpi=80)\n",
        "sns.set_theme(style=\"darkgrid\")\n",
        "sns.countplot('label',data=train_data)\n",
        "plt.title('counts: \\n' +'dogs:'+str(train_data.label.value_counts()[1])+\n",
        "          '\\n cats:'+str(train_data.label.value_counts()[0]))\n",
        "plt.show()"
      ],
      "metadata": {
        "colab": {
          "base_uri": "https://localhost:8080/",
          "height": 538
        },
        "id": "RX7iYP_sXatN",
        "outputId": "1f664930-1f43-451f-ae87-23f8fc1bb142"
      },
      "execution_count": 7,
      "outputs": [
        {
          "output_type": "stream",
          "name": "stderr",
          "text": [
            "/usr/local/lib/python3.8/dist-packages/seaborn/_decorators.py:36: FutureWarning: Pass the following variable as a keyword arg: x. From version 0.12, the only valid positional argument will be `data`, and passing other arguments without an explicit keyword will result in an error or misinterpretation.\n",
            "  warnings.warn(\n"
          ]
        },
        {
          "output_type": "display_data",
          "data": {
            "text/plain": [
              "<Figure size 640x480 with 1 Axes>"
            ],
            "image/png": "[encoded data removed]"
          },
          "metadata": {
            "needs_background": "light"
          }
        }
      ]
    },
    {
      "cell_type": "code",
      "source": [
        "ID=[]\n",
        "label=[]\n",
        "# import required module\n",
        "import os\n",
        "# assign directory\n",
        "directory = '/content/test/'\n",
        " \n",
        "# iterate over files in\n",
        "# that directory\n",
        "\n",
        "for folder in os.listdir(directory):\n",
        "    for filename in os.listdir(directory+str(folder)):\n",
        "        f = os.path.join(directory+str(folder), filename)\n",
        "        if os.path.isfile(f):\n",
        "            ID.append(f.split('/')[-1])\n",
        "            label.append(f.split('/')[-2])"
      ],
      "metadata": {
        "id": "nOVEIScVXhfC"
      },
      "execution_count": 8,
      "outputs": []
    },
    {
      "cell_type": "code",
      "source": [
        "label[:10]"
      ],
      "metadata": {
        "colab": {
          "base_uri": "https://localhost:8080/"
        },
        "id": "VQjfUzKlXlCB",
        "outputId": "b5199119-9c25-4b07-84ef-b4de23a92219"
      },
      "execution_count": 9,
      "outputs": [
        {
          "output_type": "execute_result",
          "data": {
            "text/plain": [
              "['cats',\n",
              " 'cats',\n",
              " 'cats',\n",
              " 'cats',\n",
              " 'cats',\n",
              " 'cats',\n",
              " 'cats',\n",
              " 'cats',\n",
              " 'cats',\n",
              " 'cats']"
            ]
          },
          "metadata": {},
          "execution_count": 9
        }
      ]
    },
    {
      "cell_type": "code",
      "source": [
        "for i in range(len(label)):\n",
        "    if(label[i]=='test'):\n",
        "        label[i]='dogs'\n",
        "\n",
        "label[:10]"
      ],
      "metadata": {
        "colab": {
          "base_uri": "https://localhost:8080/"
        },
        "id": "JwuyflWJXvc4",
        "outputId": "7994e3a6-e475-4d78-d7d1-994709a55cc1"
      },
      "execution_count": 10,
      "outputs": [
        {
          "output_type": "execute_result",
          "data": {
            "text/plain": [
              "['cats',\n",
              " 'cats',\n",
              " 'cats',\n",
              " 'cats',\n",
              " 'cats',\n",
              " 'cats',\n",
              " 'cats',\n",
              " 'cats',\n",
              " 'cats',\n",
              " 'cats']"
            ]
          },
          "metadata": {},
          "execution_count": 10
        }
      ]
    },
    {
      "cell_type": "code",
      "source": [
        "test_data=pd.DataFrame()\n",
        "test_data['ID']=ID\n",
        "test_data['label']=label\n",
        "test_data"
      ],
      "metadata": {
        "colab": {
          "base_uri": "https://localhost:8080/",
          "height": 423
        },
        "id": "fns7KisGXw2b",
        "outputId": "ecdcd0ef-f4f5-448e-c71c-961fa523a5fc"
      },
      "execution_count": 11,
      "outputs": [
        {
          "output_type": "execute_result",
          "data": {
            "text/plain": [
              "                    ID label\n",
              "0          cat_144.wav  cats\n",
              "1           cat_75.wav  cats\n",
              "2          cat_158.wav  cats\n",
              "3           cat_42.wav  cats\n",
              "4           cat_85.wav  cats\n",
              "..                 ...   ...\n",
              "62  dog_barking_19.wav  dogs\n",
              "63  dog_barking_66.wav  dogs\n",
              "64  dog_barking_15.wav  dogs\n",
              "65  dog_barking_73.wav  dogs\n",
              "66   dog_barking_7.wav  dogs\n",
              "\n",
              "[67 rows x 2 columns]"
            ],
            "text/html": [
              "\n",
              "  <div id=\"df-be09bba7-f8c2-403f-b804-025498b28a65\">\n",
              "    <div class=\"colab-df-container\">\n",
              "      <div>\n",
              "<style scoped>\n",
              "    .dataframe tbody tr th:only-of-type {\n",
              "        vertical-align: middle;\n",
              "    }\n",
              "\n",
              "    .dataframe tbody tr th {\n",
              "        vertical-align: top;\n",
              "    }\n",
              "\n",
              "    .dataframe thead th {\n",
              "        text-align: right;\n",
              "    }\n",
              "</style>\n",
              "<table border=\"1\" class=\"dataframe\">\n",
              "  <thead>\n",
              "    <tr style=\"text-align: right;\">\n",
              "      <th></th>\n",
              "      <th>ID</th>\n",
              "      <th>label</th>\n",
              "    </tr>\n",
              "  </thead>\n",
              "  <tbody>\n",
              "    <tr>\n",
              "      <th>0</th>\n",
              "      <td>cat_144.wav</td>\n",
              "      <td>cats</td>\n",
              "    </tr>\n",
              "    <tr>\n",
              "      <th>1</th>\n",
              "      <td>cat_75.wav</td>\n",
              "      <td>cats</td>\n",
              "    </tr>\n",
              "    <tr>\n",
              "      <th>2</th>\n",
              "      <td>cat_158.wav</td>\n",
              "      <td>cats</td>\n",
              "    </tr>\n",
              "    <tr>\n",
              "      <th>3</th>\n",
              "      <td>cat_42.wav</td>\n",
              "      <td>cats</td>\n",
              "    </tr>\n",
              "    <tr>\n",
              "      <th>4</th>\n",
              "      <td>cat_85.wav</td>\n",
              "      <td>cats</td>\n",
              "    </tr>\n",
              "    <tr>\n",
              "      <th>...</th>\n",
              "      <td>...</td>\n",
              "      <td>...</td>\n",
              "    </tr>\n",
              "    <tr>\n",
              "      <th>62</th>\n",
              "      <td>dog_barking_19.wav</td>\n",
              "      <td>dogs</td>\n",
              "    </tr>\n",
              "    <tr>\n",
              "      <th>63</th>\n",
              "      <td>dog_barking_66.wav</td>\n",
              "      <td>dogs</td>\n",
              "    </tr>\n",
              "    <tr>\n",
              "      <th>64</th>\n",
              "      <td>dog_barking_15.wav</td>\n",
              "      <td>dogs</td>\n",
              "    </tr>\n",
              "    <tr>\n",
              "      <th>65</th>\n",
              "      <td>dog_barking_73.wav</td>\n",
              "      <td>dogs</td>\n",
              "    </tr>\n",
              "    <tr>\n",
              "      <th>66</th>\n",
              "      <td>dog_barking_7.wav</td>\n",
              "      <td>dogs</td>\n",
              "    </tr>\n",
              "  </tbody>\n",
              "</table>\n",
              "<p>67 rows × 2 columns</p>\n",
              "</div>\n",
              "      <button class=\"colab-df-convert\" onclick=\"convertToInteractive('df-be09bba7-f8c2-403f-b804-025498b28a65')\"\n",
              "              title=\"Convert this dataframe to an interactive table.\"\n",
              "              style=\"display:none;\">\n",
              "        \n",
              "  <svg xmlns=\"http://www.w3.org/2000/svg\" height=\"24px\"viewBox=\"0 0 24 24\"\n",
              "       width=\"24px\">\n",
              "    <path d=\"M0 0h24v24H0V0z\" fill=\"none\"/>\n",
              "    <path d=\"M18.56 5.44l.94 2.06.94-2.06 2.06-.94-2.06-.94-.94-2.06-.94 2.06-2.06.94zm-11 1L8.5 8.5l.94-2.06 2.06-.94-2.06-.94L8.5 2.5l-.94 2.06-2.06.94zm10 10l.94 2.06.94-2.06 2.06-.94-2.06-.94-.94-2.06-.94 2.06-2.06.94z\"/><path d=\"M17.41 7.96l-1.37-1.37c-.4-.4-.92-.59-1.43-.59-.52 0-1.04.2-1.43.59L10.3 9.45l-7.72 7.72c-.78.78-.78 2.05 0 2.83L4 21.41c.39.39.9.59 1.41.59.51 0 1.02-.2 1.41-.59l7.78-7.78 2.81-2.81c.8-.78.8-2.07 0-2.86zM5.41 20L4 18.59l7.72-7.72 1.47 1.35L5.41 20z\"/>\n",
              "  </svg>\n",
              "      </button>\n",
              "      \n",
              "  <style>\n",
              "    .colab-df-container {\n",
              "      display:flex;\n",
              "      flex-wrap:wrap;\n",
              "      gap: 12px;\n",
              "    }\n",
              "\n",
              "    .colab-df-convert {\n",
              "      background-color: #E8F0FE;\n",
              "      border: none;\n",
              "      border-radius: 50%;\n",
              "      cursor: pointer;\n",
              "      display: none;\n",
              "      fill: #1967D2;\n",
              "      height: 32px;\n",
              "      padding: 0 0 0 0;\n",
              "      width: 32px;\n",
              "    }\n",
              "\n",
              "    .colab-df-convert:hover {\n",
              "      background-color: #E2EBFA;\n",
              "      box-shadow: 0px 1px 2px rgba(60, 64, 67, 0.3), 0px 1px 3px 1px rgba(60, 64, 67, 0.15);\n",
              "      fill: #174EA6;\n",
              "    }\n",
              "\n",
              "    [theme=dark] .colab-df-convert {\n",
              "      background-color: #3B4455;\n",
              "      fill: #D2E3FC;\n",
              "    }\n",
              "\n",
              "    [theme=dark] .colab-df-convert:hover {\n",
              "      background-color: #434B5C;\n",
              "      box-shadow: 0px 1px 3px 1px rgba(0, 0, 0, 0.15);\n",
              "      filter: drop-shadow(0px 1px 2px rgba(0, 0, 0, 0.3));\n",
              "      fill: #FFFFFF;\n",
              "    }\n",
              "  </style>\n",
              "\n",
              "      <script>\n",
              "        const buttonEl =\n",
              "          document.querySelector('#df-be09bba7-f8c2-403f-b804-025498b28a65 button.colab-df-convert');\n",
              "        buttonEl.style.display =\n",
              "          google.colab.kernel.accessAllowed ? 'block' : 'none';\n",
              "\n",
              "        async function convertToInteractive(key) {\n",
              "          const element = document.querySelector('#df-be09bba7-f8c2-403f-b804-025498b28a65');\n",
              "          const dataTable =\n",
              "            await google.colab.kernel.invokeFunction('convertToInteractive',\n",
              "                                                     [key], {});\n",
              "          if (!dataTable) return;\n",
              "\n",
              "          const docLinkHtml = 'Like what you see? Visit the ' +\n",
              "            '<a target=\"_blank\" href=https://colab.research.google.com/notebooks/data_table.ipynb>data table notebook</a>'\n",
              "            + ' to learn more about interactive tables.';\n",
              "          element.innerHTML = '';\n",
              "          dataTable['output_type'] = 'display_data';\n",
              "          await google.colab.output.renderOutput(dataTable, element);\n",
              "          const docLink = document.createElement('div');\n",
              "          docLink.innerHTML = docLinkHtml;\n",
              "          element.appendChild(docLink);\n",
              "        }\n",
              "      </script>\n",
              "    </div>\n",
              "  </div>\n",
              "  "
            ]
          },
          "metadata": {},
          "execution_count": 11
        }
      ]
    },
    {
      "cell_type": "markdown",
      "source": [
        "# Feature extraction of audio files using MFCCs\n",
        "This function will access the audio files directly from the dataset and automatically store the features for each file in train set\n",
        "In librosa.load function if we dont write sr=None, it will upsample every audio file to 22Khz which we dont want here.\n",
        "I have used 100 Mel freq cepstrum coeff. for each audio file.\n",
        "\n",
        "![image.png](data:image/png;base64,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)"
      ],
      "metadata": {
        "id": "oi5OJ31oX-6H"
      }
    },
    {
      "cell_type": "code",
      "source": [
        "def extract_features(directory):\n",
        "    features=[]\n",
        "    ID=[]\n",
        "    for folder in os.listdir(directory):\n",
        "        for filename in os.listdir(directory+str(folder)):\n",
        "            f = os.path.join(directory+str(folder), filename)\n",
        "            if os.path.isfile(f):\n",
        "                x,sr=librosa.load(f, res_type='kaiser_fast',sr=None)\n",
        "                mfccs=np.mean(librosa.feature.mfcc(x,sr=sr,n_mfcc=100).T,axis=0)\n",
        "                features.append(mfccs)\n",
        "                ID.append(f.split('/')[-1])\n",
        "    return [ID, features]"
      ],
      "metadata": {
        "id": "3ioZmIlUX1ZP"
      },
      "execution_count": 12,
      "outputs": []
    },
    {
      "cell_type": "code",
      "source": [
        "# call on train data set\n",
        "ID, features_train=extract_features('/content/train/')"
      ],
      "metadata": {
        "id": "bmKbYmuIYE3Q"
      },
      "execution_count": 13,
      "outputs": []
    },
    {
      "cell_type": "code",
      "source": [
        "#checking that if they are same, there should be no zero or false value\n",
        "\n",
        "print(np.count_nonzero(train_data.ID==ID) )\n",
        "\n",
        "#the ablove thing should be equal to the original shape of ID's in train_data\n",
        "\n",
        "len(train_data.ID)==np.count_nonzero(train_data.ID==ID) "
      ],
      "metadata": {
        "colab": {
          "base_uri": "https://localhost:8080/"
        },
        "id": "pm4uyLQpYMt8",
        "outputId": "6fe12029-c22f-4db8-ae1b-938469d16c14"
      },
      "execution_count": 14,
      "outputs": [
        {
          "output_type": "stream",
          "name": "stdout",
          "text": [
            "210\n"
          ]
        },
        {
          "output_type": "execute_result",
          "data": {
            "text/plain": [
              "True"
            ]
          },
          "metadata": {},
          "execution_count": 14
        }
      ]
    },
    {
      "cell_type": "code",
      "source": [
        "# call on test data\n",
        "ID,features_test=extract_features('/content/test/')\n",
        "\n",
        "len(test_data.ID)==np.count_nonzero(test_data.ID==ID)   #matched "
      ],
      "metadata": {
        "colab": {
          "base_uri": "https://localhost:8080/"
        },
        "id": "v1TxBDYQYcNp",
        "outputId": "ae2c6349-4e09-47bf-91ed-c8494eb6463c"
      },
      "execution_count": 15,
      "outputs": [
        {
          "output_type": "execute_result",
          "data": {
            "text/plain": [
              "True"
            ]
          },
          "metadata": {},
          "execution_count": 15
        }
      ]
    },
    {
      "cell_type": "code",
      "source": [
        "X_train=np.array(features_train)\n",
        "X_test=np.array(features_test)\n",
        "\n",
        "Y_train=train_data.label\n",
        "Y_test=test_data.label"
      ],
      "metadata": {
        "id": "j6UbXeC4YoAP"
      },
      "execution_count": 16,
      "outputs": []
    },
    {
      "cell_type": "code",
      "source": [
        "#label encode Y_train and Y_test\n",
        "\n",
        "le=LabelEncoder()\n",
        "\n",
        "temp=le.fit_transform(Y_train)\n",
        "Y_train=temp.reshape(-1,1)\n",
        "\n",
        "temp=le.fit_transform(Y_test)\n",
        "Y_test=temp.reshape(-1,1)"
      ],
      "metadata": {
        "id": "2DopbCXCYtPh"
      },
      "execution_count": 17,
      "outputs": []
    },
    {
      "cell_type": "code",
      "source": [
        "print(X_train.shape,X_test.shape)\n",
        "print(Y_train.shape,Y_test.shape)   "
      ],
      "metadata": {
        "colab": {
          "base_uri": "https://localhost:8080/"
        },
        "id": "uSP-epAMYv9H",
        "outputId": "00b5bb7e-520c-4d26-e039-030d3bcc3364"
      },
      "execution_count": 29,
      "outputs": [
        {
          "output_type": "stream",
          "name": "stdout",
          "text": [
            "(210, 100) (67, 100)\n",
            "(210, 1) (67, 1)\n",
            "[-4.28106689e+02  1.48950815e+01 -3.15212421e+01 -6.80621862e+00\n",
            " -1.37228069e+01 -1.66699657e+01 -6.25681520e-01 -6.44781876e+00\n",
            "  3.00821567e+00 -6.90955925e+00  1.30397546e+00 -1.04357648e+00\n",
            " -4.51090956e+00 -3.54451947e-02 -5.55784178e+00 -3.13983035e+00\n",
            " -6.31933022e+00 -1.15695870e+00 -1.89611971e+00 -1.81703579e+00\n",
            " -2.69565511e+00 -1.85053039e+00 -1.90609682e+00 -5.36261976e-01\n",
            " -1.91837788e+00 -1.03510356e+00 -1.80478239e+00 -8.12635958e-01\n",
            " -5.17968714e-01 -1.37183237e+00 -7.84925163e-01 -8.34227920e-01\n",
            "  1.00635076e+00  7.64571607e-01  7.43897736e-01  4.37216580e-01\n",
            " -1.34415299e-01  8.15364778e-01 -7.65259683e-01 -5.35317659e-01\n",
            " -1.12852836e+00 -7.57635057e-01  4.64575410e-01  2.92852074e-01\n",
            "  1.03615308e+00 -3.73113781e-01  1.11154306e+00 -2.91661173e-01\n",
            " -6.73085868e-01 -3.85634452e-01  7.04103529e-01  6.04860902e-01\n",
            " -3.67187172e-01 -3.88632208e-01 -1.10972488e+00  3.25349808e-01\n",
            " -1.23190963e+00 -4.97705489e-01 -6.56955361e-01  5.29350936e-01\n",
            "  1.43264353e-01 -5.37054464e-02  5.38194895e-01  5.49566567e-01\n",
            "  4.68523830e-01  1.19243890e-01 -5.82297504e-01 -1.84644699e-01\n",
            "  2.13109151e-01 -5.14253974e-01  3.99533138e-02  4.08664674e-01\n",
            "  2.28712574e-01 -3.78222197e-01 -1.68875441e-01 -7.69564062e-02\n",
            " -5.84448755e-01 -1.12215102e-01 -3.85652661e-01  1.73935860e-01\n",
            "  2.39161357e-01  6.84285700e-01  1.72763020e-01 -3.70698154e-01\n",
            " -5.26079297e-01 -5.60431898e-01 -2.06143379e-01  2.71449596e-01\n",
            "  2.92763352e-01 -3.08754414e-01  1.29380375e-01 -1.28936663e-01\n",
            " -2.69105703e-01 -2.54620463e-01  1.47465751e-01  3.82373109e-02\n",
            "  2.25117162e-01  3.40773880e-01  2.90273070e-01  2.94378191e-01]\n"
          ]
        }
      ]
    },
    {
      "cell_type": "markdown",
      "source": [
        "# Build audio classification model\n",
        "input shape will be 100 since there are 100 mfccs for each audio file"
      ],
      "metadata": {
        "id": "pQGo_xYZY1NP"
      }
    },
    {
      "cell_type": "code",
      "source": [
        "model=tf.keras.Sequential()\n",
        "model.add(layers.Dense(input_shape=(100,), units= 200,activation='relu'))\n",
        "model.add(layers.Dense(200,activation='relu'))\n",
        "model.add(layers.Dense(200,activation='relu'))\n",
        "model.add(layers.Dense(1,activation='sigmoid'))\n",
        "model.summary()"
      ],
      "metadata": {
        "colab": {
          "base_uri": "https://localhost:8080/"
        },
        "id": "p-3qwC7AYwxI",
        "outputId": "4a83d398-af7c-4882-cbf7-0700711ef391"
      },
      "execution_count": 20,
      "outputs": [
        {
          "output_type": "stream",
          "name": "stdout",
          "text": [
            "Model: \"sequential_1\"\n",
            "_________________________________________________________________\n",
            " Layer (type)                Output Shape              Param #   \n",
            "=================================================================\n",
            " dense_4 (Dense)             (None, 200)               20200     \n",
            "                                                                 \n",
            " dense_5 (Dense)             (None, 200)               40200     \n",
            "                                                                 \n",
            " dense_6 (Dense)             (None, 200)               40200     \n",
            "                                                                 \n",
            " dense_7 (Dense)             (None, 1)                 201       \n",
            "                                                                 \n",
            "=================================================================\n",
            "Total params: 100,801\n",
            "Trainable params: 100,801\n",
            "Non-trainable params: 0\n",
            "_________________________________________________________________\n"
          ]
        }
      ]
    },
    {
      "cell_type": "code",
      "source": [
        "model.compile(optimizer='adam',loss='binary_crossentropy',metrics=['accuracy'])"
      ],
      "metadata": {
        "id": "X21MLXSIY-TE"
      },
      "execution_count": 21,
      "outputs": []
    },
    {
      "cell_type": "code",
      "source": [
        "hist=model.fit(X_train,Y_train,epochs=100)"
      ],
      "metadata": {
        "colab": {
          "base_uri": "https://localhost:8080/"
        },
        "id": "aJ1lczHSZDhi",
        "outputId": "6741d731-9fbd-400c-d7ef-e3180a545d2c"
      },
      "execution_count": 22,
      "outputs": [
        {
          "output_type": "stream",
          "name": "stdout",
          "text": [
            "Epoch 1/100\n",
            "7/7 [==============================] - 4s 3ms/step - loss: 4.1203 - accuracy: 0.6000\n",
            "Epoch 2/100\n",
            "7/7 [==============================] - 0s 3ms/step - loss: 1.6115 - accuracy: 0.6952\n",
            "Epoch 3/100\n",
            "7/7 [==============================] - 0s 3ms/step - loss: 0.8482 - accuracy: 0.8667\n",
            "Epoch 4/100\n",
            "7/7 [==============================] - 0s 3ms/step - loss: 0.5502 - accuracy: 0.8381\n",
            "Epoch 5/100\n",
            "7/7 [==============================] - 0s 3ms/step - loss: 0.4165 - accuracy: 0.8619\n",
            "Epoch 6/100\n",
            "7/7 [==============================] - 0s 3ms/step - loss: 0.3538 - accuracy: 0.8857\n",
            "Epoch 7/100\n",
            "7/7 [==============================] - 0s 3ms/step - loss: 0.3132 - accuracy: 0.8857\n",
            "Epoch 8/100\n",
            "7/7 [==============================] - 0s 3ms/step - loss: 0.2603 - accuracy: 0.9095\n",
            "Epoch 9/100\n",
            "7/7 [==============================] - 0s 3ms/step - loss: 0.1758 - accuracy: 0.9286\n",
            "Epoch 10/100\n",
            "7/7 [==============================] - 0s 3ms/step - loss: 0.1241 - accuracy: 0.9524\n",
            "Epoch 11/100\n",
            "7/7 [==============================] - 0s 3ms/step - loss: 0.1104 - accuracy: 0.9619\n",
            "Epoch 12/100\n",
            "7/7 [==============================] - 0s 3ms/step - loss: 0.1068 - accuracy: 0.9667\n",
            "Epoch 13/100\n",
            "7/7 [==============================] - 0s 3ms/step - loss: 0.1012 - accuracy: 0.9619\n",
            "Epoch 14/100\n",
            "7/7 [==============================] - 0s 3ms/step - loss: 0.0721 - accuracy: 0.9810\n",
            "Epoch 15/100\n",
            "7/7 [==============================] - 0s 3ms/step - loss: 0.0646 - accuracy: 0.9857\n",
            "Epoch 16/100\n",
            "7/7 [==============================] - 0s 3ms/step - loss: 0.0564 - accuracy: 0.9905\n",
            "Epoch 17/100\n",
            "7/7 [==============================] - 0s 3ms/step - loss: 0.0626 - accuracy: 0.9857\n",
            "Epoch 18/100\n",
            "7/7 [==============================] - 0s 3ms/step - loss: 0.0484 - accuracy: 0.9905\n",
            "Epoch 19/100\n",
            "7/7 [==============================] - 0s 3ms/step - loss: 0.0460 - accuracy: 0.9857\n",
            "Epoch 20/100\n",
            "7/7 [==============================] - 0s 3ms/step - loss: 0.0401 - accuracy: 1.0000\n",
            "Epoch 21/100\n",
            "7/7 [==============================] - 0s 3ms/step - loss: 0.0632 - accuracy: 0.9714\n",
            "Epoch 22/100\n",
            "7/7 [==============================] - 0s 3ms/step - loss: 0.0987 - accuracy: 0.9619\n",
            "Epoch 23/100\n",
            "7/7 [==============================] - 0s 3ms/step - loss: 0.1500 - accuracy: 0.9238\n",
            "Epoch 24/100\n",
            "7/7 [==============================] - 0s 3ms/step - loss: 0.1558 - accuracy: 0.9476\n",
            "Epoch 25/100\n",
            "7/7 [==============================] - 0s 3ms/step - loss: 0.1074 - accuracy: 0.9619\n",
            "Epoch 26/100\n",
            "7/7 [==============================] - 0s 3ms/step - loss: 0.1110 - accuracy: 0.9571\n",
            "Epoch 27/100\n",
            "7/7 [==============================] - 0s 3ms/step - loss: 0.0374 - accuracy: 0.9857\n",
            "Epoch 28/100\n",
            "7/7 [==============================] - 0s 3ms/step - loss: 0.0427 - accuracy: 0.9857\n",
            "Epoch 29/100\n",
            "7/7 [==============================] - 0s 3ms/step - loss: 0.0374 - accuracy: 0.9905\n",
            "Epoch 30/100\n",
            "7/7 [==============================] - 0s 3ms/step - loss: 0.0224 - accuracy: 1.0000\n",
            "Epoch 31/100\n",
            "7/7 [==============================] - 0s 3ms/step - loss: 0.0158 - accuracy: 0.9952\n",
            "Epoch 32/100\n",
            "7/7 [==============================] - 0s 3ms/step - loss: 0.0130 - accuracy: 1.0000\n",
            "Epoch 33/100\n",
            "7/7 [==============================] - 0s 3ms/step - loss: 0.0118 - accuracy: 1.0000\n",
            "Epoch 34/100\n",
            "7/7 [==============================] - 0s 3ms/step - loss: 0.0110 - accuracy: 1.0000\n",
            "Epoch 35/100\n",
            "7/7 [==============================] - 0s 3ms/step - loss: 0.0122 - accuracy: 0.9952\n",
            "Epoch 36/100\n",
            "7/7 [==============================] - 0s 3ms/step - loss: 0.0095 - accuracy: 1.0000\n",
            "Epoch 37/100\n",
            "7/7 [==============================] - 0s 3ms/step - loss: 0.0092 - accuracy: 1.0000\n",
            "Epoch 38/100\n",
            "7/7 [==============================] - 0s 3ms/step - loss: 0.0080 - accuracy: 1.0000\n",
            "Epoch 39/100\n",
            "7/7 [==============================] - 0s 3ms/step - loss: 0.0069 - accuracy: 1.0000\n",
            "Epoch 40/100\n",
            "7/7 [==============================] - 0s 3ms/step - loss: 0.0069 - accuracy: 1.0000\n",
            "Epoch 41/100\n",
            "7/7 [==============================] - 0s 3ms/step - loss: 0.0070 - accuracy: 1.0000\n",
            "Epoch 42/100\n",
            "7/7 [==============================] - 0s 3ms/step - loss: 0.0061 - accuracy: 1.0000\n",
            "Epoch 43/100\n",
            "7/7 [==============================] - 0s 3ms/step - loss: 0.0054 - accuracy: 1.0000\n",
            "Epoch 44/100\n",
            "7/7 [==============================] - 0s 3ms/step - loss: 0.0051 - accuracy: 1.0000\n",
            "Epoch 45/100\n",
            "7/7 [==============================] - 0s 3ms/step - loss: 0.0050 - accuracy: 1.0000\n",
            "Epoch 46/100\n",
            "7/7 [==============================] - 0s 3ms/step - loss: 0.0050 - accuracy: 1.0000\n",
            "Epoch 47/100\n",
            "7/7 [==============================] - 0s 3ms/step - loss: 0.0045 - accuracy: 1.0000\n",
            "Epoch 48/100\n",
            "7/7 [==============================] - 0s 3ms/step - loss: 0.0041 - accuracy: 1.0000\n",
            "Epoch 49/100\n",
            "7/7 [==============================] - 0s 3ms/step - loss: 0.0041 - accuracy: 1.0000\n",
            "Epoch 50/100\n",
            "7/7 [==============================] - 0s 3ms/step - loss: 0.0038 - accuracy: 1.0000\n",
            "Epoch 51/100\n",
            "7/7 [==============================] - 0s 3ms/step - loss: 0.0037 - accuracy: 1.0000\n",
            "Epoch 52/100\n",
            "7/7 [==============================] - 0s 3ms/step - loss: 0.0037 - accuracy: 1.0000\n",
            "Epoch 53/100\n",
            "7/7 [==============================] - 0s 3ms/step - loss: 0.0033 - accuracy: 1.0000\n",
            "Epoch 54/100\n",
            "7/7 [==============================] - 0s 3ms/step - loss: 0.0032 - accuracy: 1.0000\n",
            "Epoch 55/100\n",
            "7/7 [==============================] - 0s 3ms/step - loss: 0.0030 - accuracy: 1.0000\n",
            "Epoch 56/100\n",
            "7/7 [==============================] - 0s 3ms/step - loss: 0.0030 - accuracy: 1.0000\n",
            "Epoch 57/100\n",
            "7/7 [==============================] - 0s 3ms/step - loss: 0.0028 - accuracy: 1.0000\n",
            "Epoch 58/100\n",
            "7/7 [==============================] - 0s 3ms/step - loss: 0.0029 - accuracy: 1.0000\n",
            "Epoch 59/100\n",
            "7/7 [==============================] - 0s 3ms/step - loss: 0.0027 - accuracy: 1.0000\n",
            "Epoch 60/100\n",
            "7/7 [==============================] - 0s 3ms/step - loss: 0.0025 - accuracy: 1.0000\n",
            "Epoch 61/100\n",
            "7/7 [==============================] - 0s 3ms/step - loss: 0.0024 - accuracy: 1.0000\n",
            "Epoch 62/100\n",
            "7/7 [==============================] - 0s 3ms/step - loss: 0.0023 - accuracy: 1.0000\n",
            "Epoch 63/100\n",
            "7/7 [==============================] - 0s 3ms/step - loss: 0.0022 - accuracy: 1.0000\n",
            "Epoch 64/100\n",
            "7/7 [==============================] - 0s 3ms/step - loss: 0.0021 - accuracy: 1.0000\n",
            "Epoch 65/100\n",
            "7/7 [==============================] - 0s 3ms/step - loss: 0.0021 - accuracy: 1.0000\n",
            "Epoch 66/100\n",
            "7/7 [==============================] - 0s 3ms/step - loss: 0.0021 - accuracy: 1.0000\n",
            "Epoch 67/100\n",
            "7/7 [==============================] - 0s 3ms/step - loss: 0.0020 - accuracy: 1.0000\n",
            "Epoch 68/100\n",
            "7/7 [==============================] - 0s 3ms/step - loss: 0.0018 - accuracy: 1.0000\n",
            "Epoch 69/100\n",
            "7/7 [==============================] - 0s 3ms/step - loss: 0.0018 - accuracy: 1.0000\n",
            "Epoch 70/100\n",
            "7/7 [==============================] - 0s 3ms/step - loss: 0.0017 - accuracy: 1.0000\n",
            "Epoch 71/100\n",
            "7/7 [==============================] - 0s 3ms/step - loss: 0.0018 - accuracy: 1.0000\n",
            "Epoch 72/100\n",
            "7/7 [==============================] - 0s 3ms/step - loss: 0.0019 - accuracy: 1.0000\n",
            "Epoch 73/100\n",
            "7/7 [==============================] - 0s 3ms/step - loss: 0.0015 - accuracy: 1.0000\n",
            "Epoch 74/100\n",
            "7/7 [==============================] - 0s 3ms/step - loss: 0.0019 - accuracy: 1.0000\n",
            "Epoch 75/100\n",
            "7/7 [==============================] - 0s 3ms/step - loss: 0.0015 - accuracy: 1.0000\n",
            "Epoch 76/100\n",
            "7/7 [==============================] - 0s 3ms/step - loss: 0.0016 - accuracy: 1.0000\n",
            "Epoch 77/100\n",
            "7/7 [==============================] - 0s 3ms/step - loss: 0.0014 - accuracy: 1.0000\n",
            "Epoch 78/100\n",
            "7/7 [==============================] - 0s 3ms/step - loss: 0.0013 - accuracy: 1.0000\n",
            "Epoch 79/100\n",
            "7/7 [==============================] - 0s 3ms/step - loss: 0.0013 - accuracy: 1.0000\n",
            "Epoch 80/100\n",
            "7/7 [==============================] - 0s 3ms/step - loss: 0.0012 - accuracy: 1.0000\n",
            "Epoch 81/100\n",
            "7/7 [==============================] - 0s 3ms/step - loss: 0.0012 - accuracy: 1.0000\n",
            "Epoch 82/100\n",
            "7/7 [==============================] - 0s 3ms/step - loss: 0.0012 - accuracy: 1.0000\n",
            "Epoch 83/100\n",
            "7/7 [==============================] - 0s 3ms/step - loss: 0.0012 - accuracy: 1.0000\n",
            "Epoch 84/100\n",
            "7/7 [==============================] - 0s 3ms/step - loss: 0.0011 - accuracy: 1.0000\n",
            "Epoch 85/100\n",
            "7/7 [==============================] - 0s 3ms/step - loss: 0.0012 - accuracy: 1.0000\n",
            "Epoch 86/100\n",
            "7/7 [==============================] - 0s 3ms/step - loss: 0.0011 - accuracy: 1.0000\n",
            "Epoch 87/100\n",
            "7/7 [==============================] - 0s 3ms/step - loss: 0.0010 - accuracy: 1.0000\n",
            "Epoch 88/100\n",
            "7/7 [==============================] - 0s 3ms/step - loss: 9.8192e-04 - accuracy: 1.0000\n",
            "Epoch 89/100\n",
            "7/7 [==============================] - 0s 3ms/step - loss: 9.3578e-04 - accuracy: 1.0000\n",
            "Epoch 90/100\n",
            "7/7 [==============================] - 0s 3ms/step - loss: 9.3682e-04 - accuracy: 1.0000\n",
            "Epoch 91/100\n",
            "7/7 [==============================] - 0s 3ms/step - loss: 8.9093e-04 - accuracy: 1.0000\n",
            "Epoch 92/100\n",
            "7/7 [==============================] - 0s 3ms/step - loss: 8.6973e-04 - accuracy: 1.0000\n",
            "Epoch 93/100\n",
            "7/7 [==============================] - 0s 3ms/step - loss: 8.4905e-04 - accuracy: 1.0000\n",
            "Epoch 94/100\n",
            "7/7 [==============================] - 0s 3ms/step - loss: 8.3731e-04 - accuracy: 1.0000\n",
            "Epoch 95/100\n",
            "7/7 [==============================] - 0s 3ms/step - loss: 8.1058e-04 - accuracy: 1.0000\n",
            "Epoch 96/100\n",
            "7/7 [==============================] - 0s 3ms/step - loss: 8.0868e-04 - accuracy: 1.0000\n",
            "Epoch 97/100\n",
            "7/7 [==============================] - 0s 3ms/step - loss: 7.7657e-04 - accuracy: 1.0000\n",
            "Epoch 98/100\n",
            "7/7 [==============================] - 0s 3ms/step - loss: 7.5145e-04 - accuracy: 1.0000\n",
            "Epoch 99/100\n",
            "7/7 [==============================] - 0s 3ms/step - loss: 7.2440e-04 - accuracy: 1.0000\n",
            "Epoch 100/100\n",
            "7/7 [==============================] - 0s 3ms/step - loss: 7.0694e-04 - accuracy: 1.0000\n"
          ]
        }
      ]
    },
    {
      "cell_type": "code",
      "source": [
        "plt.title('Train Loss values over 100 epochs:')\n",
        "plt.plot(hist.history['loss'],color='red',linewidth=2)\n",
        "plt.show()"
      ],
      "metadata": {
        "colab": {
          "base_uri": "https://localhost:8080/",
          "height": 284
        },
        "id": "i2BGkfK1ZRdi",
        "outputId": "2965f0b7-e791-4d85-defc-9e836d56317d"
      },
      "execution_count": 23,
      "outputs": [
        {
          "output_type": "display_data",
          "data": {
            "text/plain": [
              "<Figure size 432x288 with 1 Axes>"
            ],
            "image/png": "[encoded data removed]"
          },
          "metadata": {}
        }
      ]
    },
    {
      "cell_type": "code",
      "source": [
        "plt.title('Train accuracy values over 100 epochs:')\n",
        "plt.plot(hist.history['accuracy'],color='purple')\n",
        "plt.show()"
      ],
      "metadata": {
        "colab": {
          "base_uri": "https://localhost:8080/",
          "height": 284
        },
        "id": "SyWCuoPeZUY_",
        "outputId": "0535cb92-5745-4ff8-d5ac-b3bc90779afb"
      },
      "execution_count": 24,
      "outputs": [
        {
          "output_type": "display_data",
          "data": {
            "text/plain": [
              "<Figure size 432x288 with 1 Axes>"
            ],
            "image/png": "[encoded data removed]"
          },
          "metadata": {}
        }
      ]
    },
    {
      "cell_type": "markdown",
      "source": [
        "# Testing the model with test data and metrics"
      ],
      "metadata": {
        "id": "KLDSw9rYZbA1"
      }
    },
    {
      "cell_type": "code",
      "source": [
        "Y_pred=model.predict(X_test)\n",
        "#since we are using sigmoid activation function at the output layer\n",
        "Y_pred=(Y_pred>0.5)*1\n",
        "\n",
        "plt.figure(figsize=(10,8),dpi=80)\n",
        "sns.heatmap(confusion_matrix(Y_test,Y_pred),annot=True,cmap='Blues')\n",
        "plt.title('1 signifies dog sounds and 0 signifies cat sounds \\n'+'Accuracy:'+str(accuracy_score(Y_test,Y_pred)))\n",
        "plt.show()"
      ],
      "metadata": {
        "colab": {
          "base_uri": "https://localhost:8080/",
          "height": 588
        },
        "id": "ipNDBfnZZcPW",
        "outputId": "288c0248-0e45-4169-bab4-e4b92c00ff45"
      },
      "execution_count": 25,
      "outputs": [
        {
          "output_type": "stream",
          "name": "stdout",
          "text": [
            "3/3 [==============================] - 0s 2ms/step\n"
          ]
        },
        {
          "output_type": "display_data",
          "data": {
            "text/plain": [
              "<Figure size 800x640 with 2 Axes>"
            ],
            "image/png": "[encoded data removed]"
          },
          "metadata": {}
        }
      ]
    },
    {
      "cell_type": "markdown",
      "source": [
        "# Full classification report"
      ],
      "metadata": {
        "id": "8qrwtrzbZny1"
      }
    },
    {
      "cell_type": "code",
      "source": [
        "print(classification_report(Y_test,Y_pred))"
      ],
      "metadata": {
        "colab": {
          "base_uri": "https://localhost:8080/"
        },
        "id": "NjbaOea8ZkkS",
        "outputId": "b76816cd-a332-4892-c065-4a72c8b645a9"
      },
      "execution_count": 26,
      "outputs": [
        {
          "output_type": "stream",
          "name": "stdout",
          "text": [
            "              precision    recall  f1-score   support\n",
            "\n",
            "           0       0.92      0.90      0.91        39\n",
            "           1       0.86      0.89      0.88        28\n",
            "\n",
            "    accuracy                           0.90        67\n",
            "   macro avg       0.89      0.90      0.89        67\n",
            "weighted avg       0.90      0.90      0.90        67\n",
            "\n"
          ]
        }
      ]
    }
  ]
}